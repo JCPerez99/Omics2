{
 "cells": [
  {
   "cell_type": "markdown",
   "id": "2772d269",
   "metadata": {},
   "source": [
    "# MAPPING PROJECT"
   ]
  },
  {
   "cell_type": "markdown",
   "id": "adcc7d8e",
   "metadata": {},
   "source": []
  },
  {
   "cell_type": "code",
   "execution_count": null,
   "id": "e7f17376",
   "metadata": {},
   "outputs": [],
   "source": []
  },
  {
   "cell_type": "code",
   "execution_count": null,
   "id": "871490ac",
   "metadata": {},
   "outputs": [],
   "source": []
  },
  {
   "cell_type": "code",
   "execution_count": null,
   "id": "e1f792f2",
   "metadata": {},
   "outputs": [],
   "source": []
  },
  {
   "cell_type": "markdown",
   "id": "10df5f16",
   "metadata": {},
   "source": [
    "## Compute the BWT from a Suffix Table"
   ]
  },
  {
   "cell_type": "markdown",
   "id": "4b16a17c",
   "metadata": {},
   "source": [
    "### Building the suffix table"
   ]
  },
  {
   "cell_type": "markdown",
   "id": "c2aa25cf",
   "metadata": {},
   "source": [
    "#### with the DC3 algorithm"
   ]
  },
  {
   "cell_type": "code",
   "execution_count": null,
   "id": "a4450560",
   "metadata": {},
   "outputs": [],
   "source": []
  },
  {
   "cell_type": "markdown",
   "id": "a1d2649a",
   "metadata": {},
   "source": [
    "#### Manually (not as efficient as the DC3 alg)"
   ]
  },
  {
   "cell_type": "code",
   "execution_count": 1,
   "id": "de7d738a",
   "metadata": {},
   "outputs": [],
   "source": [
    "def suffix_list(T):\n",
    "    \"\"\"\n",
    "    Compute the suffix list\n",
    "    \n",
    "    Args:\n",
    "        T (str): string\n",
    "    \n",
    "    Return:\n",
    "        list of strings: suffix list\n",
    "    \"\"\"\n",
    "    suffix_list = [T[i:] for i in range(len(T))]\n",
    "    sorted(suffix_list,reverse=True)\n",
    "    return suffix_list\n",
    "\n",
    "def suffix_table(T):\n",
    "    \"\"\"\n",
    "    Compute the suffix table\n",
    "    \n",
    "    Args:\n",
    "        T (str): string\n",
    "    \n",
    "    Return:\n",
    "        list of tuples (suffix,location): suffix table\n",
    "    \"\"\"\n",
    "    suffix_list = [T[i:] for i in range(len(T))]\n",
    "    suffix_table = sorted((e,i) for i,e in enumerate(suffix_list))\n",
    "    return suffix_table"
   ]
  },
  {
   "cell_type": "markdown",
   "id": "ce7865f3",
   "metadata": {},
   "source": [
    "Compute the BWT from the Suffix Table"
   ]
  },
  {
   "cell_type": "code",
   "execution_count": 2,
   "id": "2f13eea5",
   "metadata": {},
   "outputs": [],
   "source": [
    "def BWT_suffix_table(T,end_of_string=\"$\"):\n",
    "    \"\"\"\n",
    "    Compute the BWT from the suffix table\n",
    "    \n",
    "    Args:\n",
    "        T (str): string\n",
    "        end_of_string (char): end of string character to append\n",
    "    \n",
    "    Return:\n",
    "        bwt (str): BWT\n",
    "    \"\"\"\n",
    "    T += end_of_string\n",
    "    ST = suffix_table(T)\n",
    "    bwt = \"\"\n",
    "    for s,i in ST:\n",
    "        bwt += T[i-1]\n",
    "    return(bwt)"
   ]
  },
  {
   "cell_type": "markdown",
   "id": "8c8f15f2",
   "metadata": {},
   "source": [
    "Effiecient inverse of the BWT"
   ]
  },
  {
   "cell_type": "markdown",
   "id": "4e9b9a5b",
   "metadata": {},
   "source": [
    "String search using the BWT"
   ]
  },
  {
   "cell_type": "code",
   "execution_count": 5,
   "id": "7af4c224",
   "metadata": {},
   "outputs": [],
   "source": [
    "from collections import Counter \n",
    "\n",
    "def occurrence_indexer(S):\n",
    "    K = []\n",
    "    last_index = {}\n",
    "    for s in S:\n",
    "        if s not in last_index: \n",
    "            last_index[s] = 0\n",
    "        K.append(last_index[s])\n",
    "        last_index[s] += 1\n",
    "    return(K)\n",
    "\n",
    "def last2first(counts,k,X):\n",
    "    return k + sum([counts[char] for char in counts if char < X])\n",
    "    \n",
    "def get_first_occurrence(L,X):\n",
    "    for i,l in enumerate(L):\n",
    "        if l == X:\n",
    "            return(i)\n",
    "        \n",
    "def pattern_matching_BWT(S,pattern):\n",
    "    \"\"\"\n",
    "    Search a pattern in a String using the BWT\n",
    "    \n",
    "    Args:\n",
    "        S (str): string\n",
    "        pattern (str): pattern\n",
    "    \n",
    "    Return:\n",
    "        bool: true if the pattern is in the string    \n",
    "    \"\"\"\n",
    "    L = BWT_suffix_table(T)\n",
    "    K = occurrence_indexer(L)\n",
    "    counts = Counter(L)\n",
    "    e = 0\n",
    "    f = len(L)\n",
    "    i = len(pattern) - 1\n",
    "    while e < f and i >= 0:\n",
    "        X = pattern[i]\n",
    "        first_occurence_in_L_ef = get_first_occurrence(L[e:f],X)\n",
    "        if first_occurence_in_L_ef is None:\n",
    "            return False\n",
    "        else:\n",
    "            r = first_occurence_in_L_ef+e\n",
    "        #print(first_occurence_in_L_ef,L[e:f],r,X,L[r])\n",
    "        \n",
    "        last_occurence_in_L_ef = get_first_occurrence(L[e:f][::-1],X)\n",
    "        if last_occurence_in_L_ef is None:\n",
    "            return False\n",
    "        else:\n",
    "            s = f-last_occurence_in_L_ef-1\n",
    "        #print(last_occurence_in_L_ef,L[e:f],s,X,L[s])\n",
    "        \n",
    "        e = last2first(counts,K[r],X)\n",
    "        f = last2first(counts,K[s],X)+1\n",
    "        i -= 1\n",
    "        #print(r,s,e,f)\n",
    "    return(i<0)"
   ]
  },
  {
   "cell_type": "code",
   "execution_count": 6,
   "id": "1da871f1",
   "metadata": {},
   "outputs": [
    {
     "data": {
      "text/plain": [
       "True"
      ]
     },
     "execution_count": 6,
     "metadata": {},
     "output_type": "execute_result"
    }
   ],
   "source": [
    "T = \"ESPEJITO\"\n",
    "pattern_matching_BWT('ESPEJITO','O')"
   ]
  }
 ],
 "metadata": {
  "kernelspec": {
   "display_name": "Python 3 (ipykernel)",
   "language": "python",
   "name": "python3"
  },
  "language_info": {
   "codemirror_mode": {
    "name": "ipython",
    "version": 3
   },
   "file_extension": ".py",
   "mimetype": "text/x-python",
   "name": "python",
   "nbconvert_exporter": "python",
   "pygments_lexer": "ipython3",
   "version": "3.9.7"
  }
 },
 "nbformat": 4,
 "nbformat_minor": 5
}
